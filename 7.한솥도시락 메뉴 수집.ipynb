{
 "cells": [
  {
   "cell_type": "code",
   "execution_count": 16,
   "metadata": {},
   "outputs": [],
   "source": [
    "from selenium import webdriver as wb\n",
    "from selenium.webdriver.common.by import By\n",
    "from selenium.webdriver.common.keys import Keys\n",
    "import time\n",
    "import pandas as pd"
   ]
  },
  {
   "cell_type": "code",
   "execution_count": 14,
   "metadata": {},
   "outputs": [],
   "source": [
    "# 한솥도시락 사이트 실행\n",
    "driver = wb.Chrome()\n",
    "driver.get(\"https://www.hsd.co.kr/menu/menu_list\")"
   ]
  },
  {
   "cell_type": "code",
   "execution_count": 7,
   "metadata": {},
   "outputs": [
    {
     "data": {
      "text/plain": [
       "[<selenium.webdriver.remote.webelement.WebElement (session=\"a6e2a0269b77294eb47efcd900d848ca\", element=\"ADDB15D6FF3E3D5CB631BAE91087C3EB_element_133\")>,\n",
       " <selenium.webdriver.remote.webelement.WebElement (session=\"a6e2a0269b77294eb47efcd900d848ca\", element=\"ADDB15D6FF3E3D5CB631BAE91087C3EB_element_138\")>,\n",
       " <selenium.webdriver.remote.webelement.WebElement (session=\"a6e2a0269b77294eb47efcd900d848ca\", element=\"ADDB15D6FF3E3D5CB631BAE91087C3EB_element_139\")>,\n",
       " <selenium.webdriver.remote.webelement.WebElement (session=\"a6e2a0269b77294eb47efcd900d848ca\", element=\"ADDB15D6FF3E3D5CB631BAE91087C3EB_element_140\")>,\n",
       " <selenium.webdriver.remote.webelement.WebElement (session=\"a6e2a0269b77294eb47efcd900d848ca\", element=\"ADDB15D6FF3E3D5CB631BAE91087C3EB_element_141\")>,\n",
       " <selenium.webdriver.remote.webelement.WebElement (session=\"a6e2a0269b77294eb47efcd900d848ca\", element=\"ADDB15D6FF3E3D5CB631BAE91087C3EB_element_142\")>,\n",
       " <selenium.webdriver.remote.webelement.WebElement (session=\"a6e2a0269b77294eb47efcd900d848ca\", element=\"ADDB15D6FF3E3D5CB631BAE91087C3EB_element_143\")>,\n",
       " <selenium.webdriver.remote.webelement.WebElement (session=\"a6e2a0269b77294eb47efcd900d848ca\", element=\"ADDB15D6FF3E3D5CB631BAE91087C3EB_element_144\")>,\n",
       " <selenium.webdriver.remote.webelement.WebElement (session=\"a6e2a0269b77294eb47efcd900d848ca\", element=\"ADDB15D6FF3E3D5CB631BAE91087C3EB_element_145\")>,\n",
       " <selenium.webdriver.remote.webelement.WebElement (session=\"a6e2a0269b77294eb47efcd900d848ca\", element=\"ADDB15D6FF3E3D5CB631BAE91087C3EB_element_146\")>,\n",
       " <selenium.webdriver.remote.webelement.WebElement (session=\"a6e2a0269b77294eb47efcd900d848ca\", element=\"ADDB15D6FF3E3D5CB631BAE91087C3EB_element_147\")>,\n",
       " <selenium.webdriver.remote.webelement.WebElement (session=\"a6e2a0269b77294eb47efcd900d848ca\", element=\"ADDB15D6FF3E3D5CB631BAE91087C3EB_element_148\")>,\n",
       " <selenium.webdriver.remote.webelement.WebElement (session=\"a6e2a0269b77294eb47efcd900d848ca\", element=\"ADDB15D6FF3E3D5CB631BAE91087C3EB_element_149\")>,\n",
       " <selenium.webdriver.remote.webelement.WebElement (session=\"a6e2a0269b77294eb47efcd900d848ca\", element=\"ADDB15D6FF3E3D5CB631BAE91087C3EB_element_150\")>,\n",
       " <selenium.webdriver.remote.webelement.WebElement (session=\"a6e2a0269b77294eb47efcd900d848ca\", element=\"ADDB15D6FF3E3D5CB631BAE91087C3EB_element_151\")>,\n",
       " <selenium.webdriver.remote.webelement.WebElement (session=\"a6e2a0269b77294eb47efcd900d848ca\", element=\"ADDB15D6FF3E3D5CB631BAE91087C3EB_element_152\")>,\n",
       " <selenium.webdriver.remote.webelement.WebElement (session=\"a6e2a0269b77294eb47efcd900d848ca\", element=\"ADDB15D6FF3E3D5CB631BAE91087C3EB_element_153\")>,\n",
       " <selenium.webdriver.remote.webelement.WebElement (session=\"a6e2a0269b77294eb47efcd900d848ca\", element=\"ADDB15D6FF3E3D5CB631BAE91087C3EB_element_154\")>]"
      ]
     },
     "execution_count": 7,
     "metadata": {},
     "output_type": "execute_result"
    }
   ],
   "source": [
    "# 상품명 수집\n",
    "title = driver.find_elements(By.CSS_SELECTOR,\".h.fz_03\")"
   ]
  },
  {
   "cell_type": "code",
   "execution_count": 10,
   "metadata": {},
   "outputs": [],
   "source": [
    "# 가격정보 수집\n",
    "price = driver.find_elements(By.CSS_SELECTOR,\"div.item-price > strong\")\n",
    "#menuList_486 > div > div.item-text > div > strong"
   ]
  },
  {
   "cell_type": "code",
   "execution_count": 11,
   "metadata": {},
   "outputs": [
    {
     "data": {
      "text/plain": [
       "18"
      ]
     },
     "execution_count": 11,
     "metadata": {},
     "output_type": "execute_result"
    }
   ],
   "source": [
    "len(price)"
   ]
  },
  {
   "cell_type": "code",
   "execution_count": 12,
   "metadata": {},
   "outputs": [],
   "source": [
    "# 모든 데이터를 보기 위해서 더보기 버튼을 클릭\n",
    "btn = driver.find_element(By.CSS_SELECTOR,\"a.c_05\")\n",
    "btn.click()"
   ]
  },
  {
   "cell_type": "code",
   "execution_count": 13,
   "metadata": {},
   "outputs": [
    {
     "ename": "ElementNotInteractableException",
     "evalue": "Message: element not interactable\n  (Session info: chrome=116.0.5845.97)\nStacktrace:\n\tGetHandleVerifier [0x00007FF69C4852A2+57122]\n\t(No symbol) [0x00007FF69C3FEA92]\n\t(No symbol) [0x00007FF69C2CE25D]\n\t(No symbol) [0x00007FF69C308E97]\n\t(No symbol) [0x00007FF69C2FF25F]\n\t(No symbol) [0x00007FF69C326FDA]\n\t(No symbol) [0x00007FF69C2FEB76]\n\t(No symbol) [0x00007FF69C3271F0]\n\t(No symbol) [0x00007FF69C33EB82]\n\t(No symbol) [0x00007FF69C326DB3]\n\t(No symbol) [0x00007FF69C2FD2B1]\n\t(No symbol) [0x00007FF69C2FE494]\n\tGetHandleVerifier [0x00007FF69C72EF82+2849794]\n\tGetHandleVerifier [0x00007FF69C781D24+3189156]\n\tGetHandleVerifier [0x00007FF69C77ACAF+3160367]\n\tGetHandleVerifier [0x00007FF69C516D06+653702]\n\t(No symbol) [0x00007FF69C40A208]\n\t(No symbol) [0x00007FF69C4062C4]\n\t(No symbol) [0x00007FF69C4063F6]\n\t(No symbol) [0x00007FF69C3F67A3]\n\tBaseThreadInitThunk [0x00007FF85A777614+20]\n\tRtlUserThreadStart [0x00007FF85ADA26B1+33]\n",
     "output_type": "error",
     "traceback": [
      "\u001b[1;31m---------------------------------------------------------------------------\u001b[0m",
      "\u001b[1;31mElementNotInteractableException\u001b[0m           Traceback (most recent call last)",
      "Cell \u001b[1;32mIn[13], line 4\u001b[0m\n\u001b[0;32m      2\u001b[0m \u001b[39mfor\u001b[39;00m i \u001b[39min\u001b[39;00m \u001b[39mrange\u001b[39m(\u001b[39m5\u001b[39m):\n\u001b[0;32m      3\u001b[0m     btn \u001b[39m=\u001b[39m driver\u001b[39m.\u001b[39mfind_element(By\u001b[39m.\u001b[39mCSS_SELECTOR,\u001b[39m\"\u001b[39m\u001b[39ma.c_05\u001b[39m\u001b[39m\"\u001b[39m)\n\u001b[1;32m----> 4\u001b[0m     btn\u001b[39m.\u001b[39;49mclick()\n\u001b[0;32m      5\u001b[0m     time\u001b[39m.\u001b[39msleep(\u001b[39m1\u001b[39m)\n",
      "File \u001b[1;32mc:\\Users\\smhrd\\AppData\\Local\\Programs\\Python\\Python311\\Lib\\site-packages\\selenium\\webdriver\\remote\\webelement.py:94\u001b[0m, in \u001b[0;36mWebElement.click\u001b[1;34m(self)\u001b[0m\n\u001b[0;32m     92\u001b[0m \u001b[39mdef\u001b[39;00m \u001b[39mclick\u001b[39m(\u001b[39mself\u001b[39m) \u001b[39m-\u001b[39m\u001b[39m>\u001b[39m \u001b[39mNone\u001b[39;00m:\n\u001b[0;32m     93\u001b[0m \u001b[39m    \u001b[39m\u001b[39m\"\"\"Clicks the element.\"\"\"\u001b[39;00m\n\u001b[1;32m---> 94\u001b[0m     \u001b[39mself\u001b[39;49m\u001b[39m.\u001b[39;49m_execute(Command\u001b[39m.\u001b[39;49mCLICK_ELEMENT)\n",
      "File \u001b[1;32mc:\\Users\\smhrd\\AppData\\Local\\Programs\\Python\\Python311\\Lib\\site-packages\\selenium\\webdriver\\remote\\webelement.py:395\u001b[0m, in \u001b[0;36mWebElement._execute\u001b[1;34m(self, command, params)\u001b[0m\n\u001b[0;32m    393\u001b[0m     params \u001b[39m=\u001b[39m {}\n\u001b[0;32m    394\u001b[0m params[\u001b[39m\"\u001b[39m\u001b[39mid\u001b[39m\u001b[39m\"\u001b[39m] \u001b[39m=\u001b[39m \u001b[39mself\u001b[39m\u001b[39m.\u001b[39m_id\n\u001b[1;32m--> 395\u001b[0m \u001b[39mreturn\u001b[39;00m \u001b[39mself\u001b[39;49m\u001b[39m.\u001b[39;49m_parent\u001b[39m.\u001b[39;49mexecute(command, params)\n",
      "File \u001b[1;32mc:\\Users\\smhrd\\AppData\\Local\\Programs\\Python\\Python311\\Lib\\site-packages\\selenium\\webdriver\\remote\\webdriver.py:345\u001b[0m, in \u001b[0;36mWebDriver.execute\u001b[1;34m(self, driver_command, params)\u001b[0m\n\u001b[0;32m    343\u001b[0m response \u001b[39m=\u001b[39m \u001b[39mself\u001b[39m\u001b[39m.\u001b[39mcommand_executor\u001b[39m.\u001b[39mexecute(driver_command, params)\n\u001b[0;32m    344\u001b[0m \u001b[39mif\u001b[39;00m response:\n\u001b[1;32m--> 345\u001b[0m     \u001b[39mself\u001b[39;49m\u001b[39m.\u001b[39;49merror_handler\u001b[39m.\u001b[39;49mcheck_response(response)\n\u001b[0;32m    346\u001b[0m     response[\u001b[39m\"\u001b[39m\u001b[39mvalue\u001b[39m\u001b[39m\"\u001b[39m] \u001b[39m=\u001b[39m \u001b[39mself\u001b[39m\u001b[39m.\u001b[39m_unwrap_value(response\u001b[39m.\u001b[39mget(\u001b[39m\"\u001b[39m\u001b[39mvalue\u001b[39m\u001b[39m\"\u001b[39m, \u001b[39mNone\u001b[39;00m))\n\u001b[0;32m    347\u001b[0m     \u001b[39mreturn\u001b[39;00m response\n",
      "File \u001b[1;32mc:\\Users\\smhrd\\AppData\\Local\\Programs\\Python\\Python311\\Lib\\site-packages\\selenium\\webdriver\\remote\\errorhandler.py:229\u001b[0m, in \u001b[0;36mErrorHandler.check_response\u001b[1;34m(self, response)\u001b[0m\n\u001b[0;32m    227\u001b[0m         alert_text \u001b[39m=\u001b[39m value[\u001b[39m\"\u001b[39m\u001b[39malert\u001b[39m\u001b[39m\"\u001b[39m]\u001b[39m.\u001b[39mget(\u001b[39m\"\u001b[39m\u001b[39mtext\u001b[39m\u001b[39m\"\u001b[39m)\n\u001b[0;32m    228\u001b[0m     \u001b[39mraise\u001b[39;00m exception_class(message, screen, stacktrace, alert_text)  \u001b[39m# type: ignore[call-arg]  # mypy is not smart enough here\u001b[39;00m\n\u001b[1;32m--> 229\u001b[0m \u001b[39mraise\u001b[39;00m exception_class(message, screen, stacktrace)\n",
      "\u001b[1;31mElementNotInteractableException\u001b[0m: Message: element not interactable\n  (Session info: chrome=116.0.5845.97)\nStacktrace:\n\tGetHandleVerifier [0x00007FF69C4852A2+57122]\n\t(No symbol) [0x00007FF69C3FEA92]\n\t(No symbol) [0x00007FF69C2CE25D]\n\t(No symbol) [0x00007FF69C308E97]\n\t(No symbol) [0x00007FF69C2FF25F]\n\t(No symbol) [0x00007FF69C326FDA]\n\t(No symbol) [0x00007FF69C2FEB76]\n\t(No symbol) [0x00007FF69C3271F0]\n\t(No symbol) [0x00007FF69C33EB82]\n\t(No symbol) [0x00007FF69C326DB3]\n\t(No symbol) [0x00007FF69C2FD2B1]\n\t(No symbol) [0x00007FF69C2FE494]\n\tGetHandleVerifier [0x00007FF69C72EF82+2849794]\n\tGetHandleVerifier [0x00007FF69C781D24+3189156]\n\tGetHandleVerifier [0x00007FF69C77ACAF+3160367]\n\tGetHandleVerifier [0x00007FF69C516D06+653702]\n\t(No symbol) [0x00007FF69C40A208]\n\t(No symbol) [0x00007FF69C4062C4]\n\t(No symbol) [0x00007FF69C4063F6]\n\t(No symbol) [0x00007FF69C3F67A3]\n\tBaseThreadInitThunk [0x00007FF85A777614+20]\n\tRtlUserThreadStart [0x00007FF85ADA26B1+33]\n"
     ]
    }
   ],
   "source": [
    "# 더보기 버튼을 반복해서 클릭\n",
    "for i in range(5):\n",
    "    btn = driver.find_element(By.CSS_SELECTOR,\"a.c_05\")\n",
    "    btn.click()\n",
    "    time.sleep(1)"
   ]
  },
  {
   "cell_type": "markdown",
   "metadata": {},
   "source": [
    "# 예외처리\n",
    "- 오류가 나기 전까지 코드를 실행하다가(try)\n",
    "- 오류가 발생하면 다른 코드를 진행하겠다!(except)\n",
    "\n"
   ]
  },
  {
   "cell_type": "code",
   "execution_count": 15,
   "metadata": {},
   "outputs": [
    {
     "name": "stdout",
     "output_type": "stream",
     "text": [
      "더 이상 버튼이 없습니다!\n"
     ]
    }
   ],
   "source": [
    "try :\n",
    "    # 오류가 나기 전까지 실행할 코드의 영역\n",
    "    for i in range(5):\n",
    "        btn = driver.find_element(By.CSS_SELECTOR,\"a.c_05\")\n",
    "        btn.click()\n",
    "        time.sleep(1)\n",
    "except:\n",
    "    # 오류가 났을때 실행할 코드의 영역\n",
    "    print(\"더 이상 버튼이 없습니다!\")"
   ]
  },
  {
   "cell_type": "code",
   "execution_count": 20,
   "metadata": {},
   "outputs": [
    {
     "name": "stdout",
     "output_type": "stream",
     "text": [
      "더 이상 버튼이 없습니다!\n"
     ]
    }
   ],
   "source": [
    "# 한코드에 완성\n",
    "driver = wb.Chrome()\n",
    "driver.get(\"https://www.hsd.co.kr/menu/menu_list\")\n",
    "time.sleep(1)\n",
    "\n",
    "try :\n",
    "    for i in range(5):\n",
    "        btn = driver.find_element(By.CSS_SELECTOR,\"a.c_05\")\n",
    "        btn.click()\n",
    "        time.sleep(1)\n",
    "except:\n",
    "    print(\"더 이상 버튼이 없습니다!\")\n",
    "    \n",
    "\n",
    "title = driver.find_elements(By.CSS_SELECTOR,\".h.fz_03\")\n",
    "price = driver.find_elements(By.CSS_SELECTOR,\"div.item-price > strong\")\n",
    "\n",
    "title_list = []\n",
    "price_list = []\n",
    "for i in range(len(title)):\n",
    "    title_list.append(title[i].text)\n",
    "    price_list.append(price[i].text)\n",
    "\n",
    "dic = {\"상품명\" : title_list, \"가격정보\" : price_list}\n",
    "hansot = pd.DataFrame(dic)\n",
    "hansot.to_csv(\"한솥메뉴.csv\", encoding=\"utf-8\")\n",
    "driver.quit()"
   ]
  },
  {
   "cell_type": "markdown",
   "metadata": {},
   "source": [
    "# 클롤링하는 프로세스\n",
    "\n",
    "1. 브라우저를 실행 및 페이지 이동\n",
    "2. 데이터 전체 로딩(더보기 클릭, 스클롤 이동)\n",
    "-- 데이터 준비단계 --\n",
    "3. 수집하고자 하는 요소를 수집\n",
    "-- 데이터 수집단계 --\n",
    "4. 수집된 데이터(요소)에서 순수한 텍스트만 저장\n",
    "-- 데이터 가공단계 -- \n",
    "5. 수집된 텍스트 데이터를 활용(표, csv)\n",
    "-- 데이터 활용단계 --\n",
    "\n",
    "★ tip\n",
    "1. 오류가 발생할 수 있으니깐 항상 예외처리를 생각해야한다\n",
    "2. 반복문을 작성할 때 for먼저 쓰는게 아니다! -> 하나의 완벽한 코드를 작성 후 \n",
    "   반복문으로 바꿔줘라\n",
    "3. time.sleep을 잘 활용하자 -> 클라이언트가 서버에게 요청을 보낼때 마다 작성을 \n",
    "   해주자\n",
    "4. 코드를 다시 실행할때는 절대절대 Run All 돌리지 말자!"
   ]
  },
  {
   "cell_type": "markdown",
   "metadata": {},
   "source": []
  }
 ],
 "metadata": {
  "kernelspec": {
   "display_name": "Python 3",
   "language": "python",
   "name": "python3"
  },
  "language_info": {
   "codemirror_mode": {
    "name": "ipython",
    "version": 3
   },
   "file_extension": ".py",
   "mimetype": "text/x-python",
   "name": "python",
   "nbconvert_exporter": "python",
   "pygments_lexer": "ipython3",
   "version": "3.11.4"
  },
  "orig_nbformat": 4
 },
 "nbformat": 4,
 "nbformat_minor": 2
}
