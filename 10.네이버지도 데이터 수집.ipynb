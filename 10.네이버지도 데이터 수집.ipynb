{
 "cells": [
  {
   "cell_type": "code",
   "execution_count": 5,
   "metadata": {},
   "outputs": [],
   "source": [
    "from selenium import webdriver as wb\n",
    "from selenium.webdriver.common.by import By\n",
    "from selenium.webdriver.common.keys import Keys\n",
    "import time\n",
    "import pandas as pd"
   ]
  },
  {
   "cell_type": "code",
   "execution_count": 6,
   "metadata": {},
   "outputs": [],
   "source": [
    "driver = wb.Chrome()\n",
    "driver.get(\"https://map.naver.com/p?c=15.00,0,0,0,dh\")"
   ]
  },
  {
   "cell_type": "code",
   "execution_count": 7,
   "metadata": {},
   "outputs": [],
   "source": [
    "# 검색창에 검색어 입력\n",
    "search = driver.find_element(By.CSS_SELECTOR,\".input_search\")\n",
    "search.send_keys(\"동명동 맛집\")\n",
    "search.send_keys(Keys.ENTER)"
   ]
  },
  {
   "cell_type": "code",
   "execution_count": 8,
   "metadata": {},
   "outputs": [],
   "source": [
    "# 1. 해당하는 iframe으로 이동\n",
    "driver.switch_to.frame(\"searchIframe\")"
   ]
  },
  {
   "cell_type": "code",
   "execution_count": 9,
   "metadata": {},
   "outputs": [],
   "source": [
    "# 가게리스트 이름 수집\n",
    "# 접근이 불가능한 이유는 iframe으로 불러와서\n",
    "title_list = driver.find_elements(By.CSS_SELECTOR,\"span.place_bluelink.TYaxT\")\n",
    "title_list[0].click()"
   ]
  },
  {
   "cell_type": "code",
   "execution_count": 10,
   "metadata": {},
   "outputs": [],
   "source": [
    "# 다른 iframe으로 이동\n",
    "# 반드시 원본 iframe으로 돌아간 후, 원하는 frame으로 이동\n",
    "driver.switch_to.default_content()\n",
    "driver.switch_to.frame(\"entryIframe\")"
   ]
  },
  {
   "cell_type": "code",
   "execution_count": 11,
   "metadata": {},
   "outputs": [
    {
     "data": {
      "text/plain": [
       "'리얼버거'"
      ]
     },
     "execution_count": 11,
     "metadata": {},
     "output_type": "execute_result"
    }
   ],
   "source": [
    "# 세부사항에서 가게이름 정보 수집\n",
    "name = driver.find_element(By.CSS_SELECTOR,\"span.Fc1rA\")\n",
    "name.text"
   ]
  },
  {
   "cell_type": "code",
   "execution_count": 12,
   "metadata": {},
   "outputs": [],
   "source": [
    "# 2번째 가게를 클릭\n",
    "driver.switch_to.default_content()\n",
    "driver.switch_to.frame(\"searchIframe\")\n",
    "title_list[0].click()"
   ]
  },
  {
   "cell_type": "code",
   "execution_count": 13,
   "metadata": {},
   "outputs": [
    {
     "data": {
      "text/plain": [
       "10"
      ]
     },
     "execution_count": 13,
     "metadata": {},
     "output_type": "execute_result"
    }
   ],
   "source": [
    "len(title_list)"
   ]
  },
  {
   "cell_type": "code",
   "execution_count": 15,
   "metadata": {},
   "outputs": [],
   "source": [
    "# 스크롤을 이동\n",
    "# 화면이 분리가 되어서 스크룰을 내릴 영역을 먼저 클릭하고 \n",
    "div = driver.find_element(By.CSS_SELECTOR,\"div.XUrfU\")\n",
    "div.click()\n",
    "for i in range(10):\n",
    "    body = driver.find_element(By.CSS_SELECTOR,\"body\")\n",
    "    body.send_keys(Keys.END)"
   ]
  },
  {
   "cell_type": "markdown",
   "metadata": {},
   "source": [
    "# selenium에서 iframe 조작하는 법\n",
    "- selenium을 통해서 iframe을 접근할려면 반드시 바라보는 frame을 이동해야 한다\n",
    "- driver.switch_to.frame(\"frameID\")\n",
    "- 원본 데이터로 이동 = driver.swithch_.default_content()\n",
    "- ★ 프레임끼리는 이동이 불가 -> 프레임 이동 한후 -> 원본으로 돌아오고-> 다른 프레임으로 이동\n",
    "- 프레임속에 스크롤을 조작하는 경우\n",
    "1. 모든 데이터가 body안에서 동작한다면(화면에 분할 없는 경우) -> 스크롤 진행이 가능\n",
    "2. body안에 화면이 분할된 경우 -> 분할된 부분을 클릭 한 다음 -> 스크롤을 진행"
   ]
  },
  {
   "cell_type": "markdown",
   "metadata": {},
   "source": []
  }
 ],
 "metadata": {
  "kernelspec": {
   "display_name": "Python 3",
   "language": "python",
   "name": "python3"
  },
  "language_info": {
   "codemirror_mode": {
    "name": "ipython",
    "version": 3
   },
   "file_extension": ".py",
   "mimetype": "text/x-python",
   "name": "python",
   "nbconvert_exporter": "python",
   "pygments_lexer": "ipython3",
   "version": "3.11.4"
  },
  "orig_nbformat": 4
 },
 "nbformat": 4,
 "nbformat_minor": 2
}
