{
 "cells": [
  {
   "cell_type": "code",
   "execution_count": 2,
   "metadata": {},
   "outputs": [],
   "source": [
    "from selenium import webdriver as wb\n",
    "from selenium.webdriver.common.by import By\n",
    "from selenium.webdriver.common.keys import Keys\n",
    "import time\n",
    "import pandas as pd"
   ]
  },
  {
   "cell_type": "code",
   "execution_count": 3,
   "metadata": {},
   "outputs": [],
   "source": [
    "driver = wb.Chrome()\n",
    "driver.get(\"https://www.gmarket.co.kr/n/best\")"
   ]
  },
  {
   "cell_type": "code",
   "execution_count": 4,
   "metadata": {},
   "outputs": [],
   "source": [
    "# 1. 첫번째 상품을 크릭해서 들어간다!\n",
    "pro_list = driver.find_elements(By.CSS_SELECTOR,\"img.image__lazy.image__load\")\n",
    "pro_list[0].click()"
   ]
  },
  {
   "cell_type": "code",
   "execution_count": 4,
   "metadata": {},
   "outputs": [
    {
     "data": {
      "text/plain": [
       "'22,730원'"
      ]
     },
     "execution_count": 4,
     "metadata": {},
     "output_type": "execute_result"
    }
   ],
   "source": [
    "# 2. 상품명, 상품가격을 수집\n",
    "title = driver.find_element(By.CSS_SELECTOR,\"#itemcase_basic > div > h1\")\n",
    "title.text\n",
    "price = driver.find_element(By.CSS_SELECTOR,\"#itemcase_basic > div > div.price > span.price_innerwrap.price_innerwrap-coupon > strong\")\n",
    "price.text"
   ]
  },
  {
   "cell_type": "code",
   "execution_count": 5,
   "metadata": {},
   "outputs": [],
   "source": [
    "# 3. 페이지를 뒤로 가기\n",
    "driver.back()"
   ]
  },
  {
   "cell_type": "code",
   "execution_count": 4,
   "metadata": {},
   "outputs": [],
   "source": [
    "# 반복문의 진행상황을 로딩바 형태로 제공\n",
    "from tqdm.notebook import tqdm\n",
    "import ipywidgets as widgets\n",
    "import IProgress"
   ]
  },
  {
   "cell_type": "code",
   "execution_count": 28,
   "metadata": {},
   "outputs": [
    {
     "data": {
      "application/vnd.jupyter.widget-view+json": {
       "model_id": "213d1ae6a13a4875a59bf03c8fc4e695",
       "version_major": 2,
       "version_minor": 0
      },
      "text/plain": [
       "  0%|          | 0/10 [00:00<?, ?it/s]"
      ]
     },
     "metadata": {},
     "output_type": "display_data"
    }
   ],
   "source": [
    "# 1,2,3번을 반복하는 코드를 작성\n",
    "title_list =[]\n",
    "price_list=[]\n",
    "\n",
    "for i in tqdm(range(10)):\n",
    "    pro_list = driver.find_elements(By.CSS_SELECTOR,\"img.image__lazy.image__load\")\n",
    "    pro_list[i].click()\n",
    "    time.sleep(2)\n",
    "    title = driver.find_element(By.CSS_SELECTOR,\"#itemcase_basic > div > h1\")\n",
    "    title_list.append(title.text)\n",
    "    try : \n",
    "        # 쿠폰할인가를 수집\n",
    "        price = driver.find_element(By.CSS_SELECTOR,\"#itemcase_basic > div > div.price > span.price_innerwrap.price_innerwrap-coupon > strong\")\n",
    "        price_list.append(price.text)\n",
    "    except :\n",
    "        # 쿠폰할인가가 없는 경우 수집\n",
    "        price = driver.find_element(By.CSS_SELECTOR,\"#itemcase_basic > div > div.price > span.price_innerwrap > strong\")\n",
    "        price_list.append(price.text)\n",
    "    driver.back()\n",
    "    time.sleep(2)\n",
    "    \n",
    "    \n",
    "\n"
   ]
  },
  {
   "cell_type": "code",
   "execution_count": 30,
   "metadata": {},
   "outputs": [
    {
     "name": "stdout",
     "output_type": "stream",
     "text": [
      "고메 소바바치킨 4봉(순살3+봉1)\n",
      "23,920원\n",
      "고메 소바바치킨 4봉(순살3+봉1)\n",
      "23,920원\n",
      "다크초콜릿아몬드20낱봉 +10봉더+에너지바1개\n",
      "15,220원\n",
      "상상 그이상 오픈런 북메카 신간 모음전 70종\n",
      "11,900원\n",
      "(15%+클럽12% 쿠폰적용가 10950) 순수한 과탄산소다 100 특대용량 7kg / 산소계 표백제\n",
      "12,750원\n",
      "(23%+5%쿠폰)래핑차일드 가을 빅세일 69%OFF 상하복/티셔츠 추가쿠폰+무료배송\n",
      "10,740원\n",
      "고메 치즈함박스테이크 152gX10개\n",
      "16,720원\n",
      "EGLOO 이글루캠 홈CCTV 홈카메라 베이비캠 펫캠 S3+ 초고화질 300만 화소 (2023년 NEW 출시)\n",
      "47,840원\n",
      "소와나무 트리플 슬라이스 치즈 1.8kg 1개 (총100매) /최종가 18900원\n",
      "18,900원\n",
      "친환경 재래 도시락김 4.5g 48봉/국내산/유기농김 / 유통기한 12월까지\n",
      "7,570원\n"
     ]
    }
   ],
   "source": [
    "title_list\n",
    "\n",
    "for i in range(len(title_list)):\n",
    "    print(title_list[i])\n",
    "    print(price_list[i])"
   ]
  },
  {
   "cell_type": "code",
   "execution_count": 23,
   "metadata": {},
   "outputs": [
    {
     "data": {
      "text/plain": [
       "'고메 소바바치킨 4봉(순살3+봉1)'"
      ]
     },
     "execution_count": 23,
     "metadata": {},
     "output_type": "execute_result"
    }
   ],
   "source": [
    "title_list[0]"
   ]
  },
  {
   "cell_type": "code",
   "execution_count": 21,
   "metadata": {},
   "outputs": [
    {
     "data": {
      "text/plain": [
       "[<selenium.webdriver.remote.webelement.WebElement (session=\"df46099b549e780d8a36b511d4125167\", element=\"C9A995ED3F3F604DCBDD4B79D4A43A73_element_10\")>,\n",
       " <selenium.webdriver.remote.webelement.WebElement (session=\"df46099b549e780d8a36b511d4125167\", element=\"0F31112DDB02C9128332F1F3E31A5E08_element_11\")>,\n",
       " <selenium.webdriver.remote.webelement.WebElement (session=\"df46099b549e780d8a36b511d4125167\", element=\"65547BFFDCDA1829B9F1F0CBABB1359C_element_12\")>,\n",
       " <selenium.webdriver.remote.webelement.WebElement (session=\"df46099b549e780d8a36b511d4125167\", element=\"E9F42085C737089EB5AAC933A125BB9C_element_49\")>,\n",
       " <selenium.webdriver.remote.webelement.WebElement (session=\"df46099b549e780d8a36b511d4125167\", element=\"679EA1776DB1D338AD12AF93232C0BD4_element_49\")>,\n",
       " <selenium.webdriver.remote.webelement.WebElement (session=\"df46099b549e780d8a36b511d4125167\", element=\"46DBF8D1F64F475BFA2B46AAA9FA51EE_element_40\")>,\n",
       " <selenium.webdriver.remote.webelement.WebElement (session=\"df46099b549e780d8a36b511d4125167\", element=\"583D5ABF6E323A6FE98B7C4004296DDF_element_47\")>,\n",
       " <selenium.webdriver.remote.webelement.WebElement (session=\"df46099b549e780d8a36b511d4125167\", element=\"2191770EEB66258153AD1B85501A9F33_element_45\")>,\n",
       " <selenium.webdriver.remote.webelement.WebElement (session=\"df46099b549e780d8a36b511d4125167\", element=\"755F2C3C3BDD52E957F1442202ABD045_element_33\")>,\n",
       " <selenium.webdriver.remote.webelement.WebElement (session=\"df46099b549e780d8a36b511d4125167\", element=\"5A1E232D2EFBDEB5CC884C6A7910B04F_element_50\")>]"
      ]
     },
     "execution_count": 21,
     "metadata": {},
     "output_type": "execute_result"
    }
   ],
   "source": [
    "price_list"
   ]
  }
 ],
 "metadata": {
  "kernelspec": {
   "display_name": "Python 3",
   "language": "python",
   "name": "python3"
  },
  "language_info": {
   "codemirror_mode": {
    "name": "ipython",
    "version": 3
   },
   "file_extension": ".py",
   "mimetype": "text/x-python",
   "name": "python",
   "nbconvert_exporter": "python",
   "pygments_lexer": "ipython3",
   "version": "3.11.4"
  },
  "orig_nbformat": 4
 },
 "nbformat": 4,
 "nbformat_minor": 2
}
