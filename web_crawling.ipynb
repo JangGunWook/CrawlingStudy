{
 "cells": [
  {
   "cell_type": "code",
   "execution_count": 1,
   "metadata": {},
   "outputs": [],
   "source": [
    "# webdriver = 크롬창 역할을 해준다!\n",
    "from selenium import webdriver as wb\n",
    "\n",
    "# 컴퓨터용 키보드 라이브러리\n",
    "from selenium.webdriver.common.keys import Keys\n",
    "\n",
    "# 선택자를 구분지어주는 라이브러리\n",
    "from selenium.webdriver.common.by import By"
   ]
  },
  {
   "cell_type": "code",
   "execution_count": 2,
   "metadata": {},
   "outputs": [],
   "source": [
    "# TERMINAL에 pip install -U selenium 설치!!\n",
    "# 최신버전 다운 받는 방법!\n",
    "# Chrom드라이버 설치하자 않아도 된다!! 16버전부터 변경된 사항"
   ]
  },
  {
   "cell_type": "code",
   "execution_count": 3,
   "metadata": {},
   "outputs": [
    {
     "data": {
      "text/plain": [
       "<selenium.webdriver.chrome.webdriver.WebDriver (session=\"d1daebfffd4d2e552e4ebb17803eaea1\")>"
      ]
     },
     "execution_count": 3,
     "metadata": {},
     "output_type": "execute_result"
    }
   ],
   "source": [
    "wb.Chrome()"
   ]
  }
 ],
 "metadata": {
  "kernelspec": {
   "display_name": "Python 3",
   "language": "python",
   "name": "python3"
  },
  "language_info": {
   "codemirror_mode": {
    "name": "ipython",
    "version": 3
   },
   "file_extension": ".py",
   "mimetype": "text/x-python",
   "name": "python",
   "nbconvert_exporter": "python",
   "pygments_lexer": "ipython3",
   "version": "3.11.4"
  },
  "orig_nbformat": 4
 },
 "nbformat": 4,
 "nbformat_minor": 2
}
